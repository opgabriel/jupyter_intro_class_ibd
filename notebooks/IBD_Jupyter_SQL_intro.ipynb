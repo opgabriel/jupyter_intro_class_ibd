{
  "nbformat": 4,
  "nbformat_minor": 0,
  "metadata": {
    "colab": {
      "name": "IBD_Jupyter_SQL_intro.ipynb",
      "provenance": []
    },
    "kernelspec": {
      "name": "python3",
      "display_name": "Python 3"
    }
  },
  "cells": [
    {
      "cell_type": "markdown",
      "metadata": {
        "id": "yx9LzooOgAvj"
      },
      "source": [
        "# Tutorial: SQL, Google Colab e Jupyter Notebooks\n",
        "\n",
        "\n",
        "O presente tutorial tem o objetivo de apresentar de forma prática a aplicação da linguagem SQL para extrair as informações de um banco de dados relacional. \n",
        "\n",
        "Para tal, utilizaremos a ferramenta [Colab](https://www.youtube.com/watch?v=inN8seMm7UI), da Google. Ela permite a criação de \"documentos executáveis\" através de [Jupyter Notebooks](https://jupyter-notebook.readthedocs.io/en/stable/notebook.html), que podem ser salvos e compartilhados via [Google Drive](https://pt.wikipedia.org/wiki/Google_Drive).\n",
        "\n",
        "Um notebook Jupyter permite a execução de códigos [Python](https://docs.python.org/pt-br/3/tutorial/index.html) de forma interativa, além da composição de textos formatados e visualização de imagens e vídeos.\n",
        "\n",
        "Para executar as células de um notebook via Colab, você deverá ter uma conta na Google. Se não tiver, pode criar uma seguindo [esse tutorial](https://support.google.com/accounts/answer/27441?hl=pt-BR).\n",
        "\n",
        "Utilizaremos as bibliotecas [`sqlite3`](https://docs.python.org/pt-br/3/library/sqlite3.html) e [`pandas`](https://pandas.pydata.org/) em nossos exemplos.\n",
        "\n",
        "---\n",
        "\n",
        "Tópicos do tutorial:\n",
        "0. Notebooks Colab\n",
        "1. Python\n",
        "2. Pandas\n",
        "3. SQL com `sqlite3`"
      ]
    },
    {
      "cell_type": "markdown",
      "metadata": {
        "id": "tgxJ7UKh-XEg"
      },
      "source": [
        "## 0. Notebooks Colab"
      ]
    },
    {
      "cell_type": "markdown",
      "metadata": {
        "id": "KgEoSPK1_JXj"
      },
      "source": [
        "# *`New section`*"
      ]
    },
    {
      "cell_type": "code",
      "metadata": {
        "id": "AN8Bftyo_Oxd",
        "colab": {
          "base_uri": "https://localhost:8080/",
          "height": 34
        },
        "outputId": "f5139f4b-7990-4c85-8977-734f3224531e"
      },
      "source": [
        "print('hello world')"
      ],
      "execution_count": null,
      "outputs": [
        {
          "output_type": "stream",
          "text": [
            "hello world\n"
          ],
          "name": "stdout"
        }
      ]
    },
    {
      "cell_type": "markdown",
      "metadata": {
        "id": "K4OZbfKgnKx8"
      },
      "source": [
        "# 1. Python\n",
        "\n",
        "Se desejar mais informações sobre Python e Colab, veja a seguinte playlist no Youtube: [Curso rápido de Python para iniciantes com Google Colab](https://www.youtube.com/playlist?list=PLCAhGm8nJ9CDV30W-0q8K4xzmGHIXnW6h)"
      ]
    },
    {
      "cell_type": "code",
      "metadata": {
        "id": "vbL3Ao9W_R7-"
      },
      "source": [
        "# declaring variables\n",
        "var_str = 'Lorem ipsum dolor sit amet, ...'\n",
        "var_int = 42\n",
        "var_float = 3.14\n",
        "var_bool = False\n",
        "var_list = [1, 2, 'a']\n",
        "var_dict = {'key_1': 'value', 'key_2': 1}\n",
        "\n",
        "formatted_str_with_variables = f'{var_str} | {var_int} | {var_float} | {var_bool}'"
      ],
      "execution_count": null,
      "outputs": []
    },
    {
      "cell_type": "code",
      "metadata": {
        "id": "fdmWdLHNxx_B",
        "colab": {
          "base_uri": "https://localhost:8080/",
          "height": 119
        },
        "outputId": "78bdf2f4-ed11-4ea7-f17b-d3f931af8c25"
      },
      "source": [
        "# printing multiple types of variables\n",
        "print(formatted_str_with_variables)\n",
        "print(var_str)\n",
        "print(var_int)\n",
        "print(var_float)\n",
        "print(var_list)\n",
        "print(var_dict)"
      ],
      "execution_count": null,
      "outputs": [
        {
          "output_type": "stream",
          "text": [
            "Lorem ipsum dolor sit amet, ... | 42 | 3.14 | False\n",
            "Lorem ipsum dolor sit amet, ...\n",
            "42\n",
            "3.14\n",
            "[1, 2, 'a']\n",
            "{'key_1': 'value', 'key_2': 1}\n"
          ],
          "name": "stdout"
        }
      ]
    },
    {
      "cell_type": "code",
      "metadata": {
        "id": "maI5eAHfeE44",
        "colab": {
          "base_uri": "https://localhost:8080/",
          "height": 35
        },
        "outputId": "d9853d73-dee6-4ccb-8cde-cb06ecee834f"
      },
      "source": [
        "# nice single line comment\n",
        "\n",
        "\"\"\" \n",
        "nice \n",
        "multiline \n",
        "comment\n",
        "\"\"\""
      ],
      "execution_count": null,
      "outputs": [
        {
          "output_type": "execute_result",
          "data": {
            "application/vnd.google.colaboratory.intrinsic+json": {
              "type": "string"
            },
            "text/plain": [
              "' \\nnice \\nmultiline \\ncomment\\n'"
            ]
          },
          "metadata": {
            "tags": []
          },
          "execution_count": 4
        }
      ]
    },
    {
      "cell_type": "code",
      "metadata": {
        "id": "cMhnsuXUreEM"
      },
      "source": [
        "# nice conditions\n",
        "if var_bool:\n",
        "  print(' :D ')\n",
        "else:\n",
        "  print(' :) ')"
      ],
      "execution_count": null,
      "outputs": []
    },
    {
      "cell_type": "code",
      "metadata": {
        "id": "B9c0PIH1qyHU",
        "colab": {
          "base_uri": "https://localhost:8080/",
          "height": 68
        },
        "outputId": "cd9a2085-9e35-427f-803f-ee17640b2ef1"
      },
      "source": [
        "# iterating list\n",
        "for element in var_list:\n",
        "  print(element)"
      ],
      "execution_count": null,
      "outputs": [
        {
          "output_type": "stream",
          "text": [
            "1\n",
            "2\n",
            "a\n"
          ],
          "name": "stdout"
        }
      ]
    },
    {
      "cell_type": "code",
      "metadata": {
        "id": "kjYa_ptGrgFQ",
        "colab": {
          "base_uri": "https://localhost:8080/",
          "height": 51
        },
        "outputId": "8691106b-ea24-4b24-d030-902c9c5ae7db"
      },
      "source": [
        "# iterating dict\n",
        "for k,v in var_dict.items():\n",
        "  print(k,v)"
      ],
      "execution_count": null,
      "outputs": [
        {
          "output_type": "stream",
          "text": [
            "key_1 value\n",
            "key_2 1\n"
          ],
          "name": "stdout"
        }
      ]
    },
    {
      "cell_type": "markdown",
      "metadata": {
        "id": "lEGxBna8tWZr"
      },
      "source": [
        "# 2. Pandas\n",
        "\n",
        "Pandas é uma biblioteca Python open source que fornece estruturas de dados de alto desempenho e fáceis de usar para processamento e análise de dados.\n",
        "\n",
        "- [Features principais do Pandas em 10 minutos](https://pandas.pydata.org/docs/user_guide/10min.html)\n",
        "- [Documentação](http://pandas.pydata.org/pandas-docs/stable/)\n",
        "- [Tutoriais](https://pandas.pydata.org/pandas-docs/stable/getting_started/tutorials.html) "
      ]
    },
    {
      "cell_type": "code",
      "metadata": {
        "id": "sUbU7F-bvR0J"
      },
      "source": [
        "import pandas as pd"
      ],
      "execution_count": null,
      "outputs": []
    },
    {
      "cell_type": "markdown",
      "metadata": {
        "id": "OUzd7IwvvXpZ"
      },
      "source": [
        "## 2.1. Importando um dataframe a partir de um arquivo¶"
      ]
    },
    {
      "cell_type": "code",
      "metadata": {
        "id": "d-9n5lBhvU9I",
        "colab": {
          "base_uri": "https://localhost:8080/",
          "height": 479
        },
        "outputId": "15d9fb3d-a46f-421b-f0f9-9070578838a1"
      },
      "source": [
        "df = pd.read_csv(\"https://raw.githubusercontent.com/filipefbn/jupyter_intro_class_ibd/master/data/music_data.csv\")\n",
        "df.head()"
      ],
      "execution_count": null,
      "outputs": [
        {
          "output_type": "execute_result",
          "data": {
            "text/html": [
              "<div>\n",
              "<style scoped>\n",
              "    .dataframe tbody tr th:only-of-type {\n",
              "        vertical-align: middle;\n",
              "    }\n",
              "\n",
              "    .dataframe tbody tr th {\n",
              "        vertical-align: top;\n",
              "    }\n",
              "\n",
              "    .dataframe thead th {\n",
              "        text-align: right;\n",
              "    }\n",
              "</style>\n",
              "<table border=\"1\" class=\"dataframe\">\n",
              "  <thead>\n",
              "    <tr style=\"text-align: right;\">\n",
              "      <th></th>\n",
              "      <th>id_billboard</th>\n",
              "      <th>song_name</th>\n",
              "      <th>artist</th>\n",
              "      <th>lyrics</th>\n",
              "      <th>danceability</th>\n",
              "      <th>energy</th>\n",
              "      <th>key</th>\n",
              "      <th>loudness</th>\n",
              "      <th>mode</th>\n",
              "      <th>speechiness</th>\n",
              "      <th>acousticness</th>\n",
              "      <th>instrumentalness</th>\n",
              "      <th>liveness</th>\n",
              "      <th>valence</th>\n",
              "      <th>time</th>\n",
              "      <th>type</th>\n",
              "      <th>id</th>\n",
              "      <th>track_href</th>\n",
              "      <th>analysis_url</th>\n",
              "      <th>duration_ms</th>\n",
              "      <th>time_signature</th>\n",
              "    </tr>\n",
              "  </thead>\n",
              "  <tbody>\n",
              "    <tr>\n",
              "      <th>0</th>\n",
              "      <td>71</td>\n",
              "      <td>Sorry - Originally performed by Beyonce</td>\n",
              "      <td>2016 Dynamo Hitz</td>\n",
              "      <td>NaN</td>\n",
              "      <td>0.699</td>\n",
              "      <td>0.526</td>\n",
              "      <td>2</td>\n",
              "      <td>-13.514</td>\n",
              "      <td>1</td>\n",
              "      <td>0.0373</td>\n",
              "      <td>0.00101</td>\n",
              "      <td>0.001650</td>\n",
              "      <td>0.1930</td>\n",
              "      <td>0.148</td>\n",
              "      <td>129.980</td>\n",
              "      <td>audio_features</td>\n",
              "      <td>5rzLBhiS7SJy03ZfcTpUSy</td>\n",
              "      <td>https://api.spotify.com/v1/tracks/5rzLBhiS7SJy...</td>\n",
              "      <td>https://api.spotify.com/v1/audio-analysis/5rzL...</td>\n",
              "      <td>232934</td>\n",
              "      <td>4</td>\n",
              "    </tr>\n",
              "    <tr>\n",
              "      <th>1</th>\n",
              "      <td>7</td>\n",
              "      <td>Hello</td>\n",
              "      <td>Adele</td>\n",
              "      <td>Hello, it's me I was wondering if after all th...</td>\n",
              "      <td>0.481</td>\n",
              "      <td>0.451</td>\n",
              "      <td>5</td>\n",
              "      <td>-6.095</td>\n",
              "      <td>0</td>\n",
              "      <td>0.0347</td>\n",
              "      <td>0.33600</td>\n",
              "      <td>0.000000</td>\n",
              "      <td>0.0872</td>\n",
              "      <td>0.287</td>\n",
              "      <td>157.966</td>\n",
              "      <td>audio_features</td>\n",
              "      <td>4sPmO7WMQUAf45kwMOtONw</td>\n",
              "      <td>https://api.spotify.com/v1/tracks/4sPmO7WMQUAf...</td>\n",
              "      <td>https://api.spotify.com/v1/audio-analysis/4sPm...</td>\n",
              "      <td>295493</td>\n",
              "      <td>4</td>\n",
              "    </tr>\n",
              "    <tr>\n",
              "      <th>2</th>\n",
              "      <td>26</td>\n",
              "      <td>Send My Love (To Your New Lover)</td>\n",
              "      <td>Adele</td>\n",
              "      <td>Just the guitar. OK, cool. This was all you, n...</td>\n",
              "      <td>0.690</td>\n",
              "      <td>0.524</td>\n",
              "      <td>6</td>\n",
              "      <td>-8.390</td>\n",
              "      <td>0</td>\n",
              "      <td>0.1030</td>\n",
              "      <td>0.04150</td>\n",
              "      <td>0.000003</td>\n",
              "      <td>0.1700</td>\n",
              "      <td>0.561</td>\n",
              "      <td>164.023</td>\n",
              "      <td>audio_features</td>\n",
              "      <td>4BHzQ9C00ceJxfG16AlNWb</td>\n",
              "      <td>https://api.spotify.com/v1/tracks/4BHzQ9C00ceJ...</td>\n",
              "      <td>https://api.spotify.com/v1/audio-analysis/4BHz...</td>\n",
              "      <td>223080</td>\n",
              "      <td>4</td>\n",
              "    </tr>\n",
              "    <tr>\n",
              "      <th>3</th>\n",
              "      <td>83</td>\n",
              "      <td>When We Were Young</td>\n",
              "      <td>Adele</td>\n",
              "      <td>NaN</td>\n",
              "      <td>0.381</td>\n",
              "      <td>0.594</td>\n",
              "      <td>3</td>\n",
              "      <td>-5.970</td>\n",
              "      <td>1</td>\n",
              "      <td>0.0486</td>\n",
              "      <td>0.34800</td>\n",
              "      <td>0.000000</td>\n",
              "      <td>0.0925</td>\n",
              "      <td>0.275</td>\n",
              "      <td>143.860</td>\n",
              "      <td>audio_features</td>\n",
              "      <td>7IWkJwX9C0J7tHurTD7ViL</td>\n",
              "      <td>https://api.spotify.com/v1/tracks/7IWkJwX9C0J7...</td>\n",
              "      <td>https://api.spotify.com/v1/audio-analysis/7IWk...</td>\n",
              "      <td>290907</td>\n",
              "      <td>4</td>\n",
              "    </tr>\n",
              "    <tr>\n",
              "      <th>4</th>\n",
              "      <td>39</td>\n",
              "      <td>Here</td>\n",
              "      <td>Alessia Cara</td>\n",
              "      <td>NaN</td>\n",
              "      <td>0.376</td>\n",
              "      <td>0.810</td>\n",
              "      <td>0</td>\n",
              "      <td>-4.003</td>\n",
              "      <td>1</td>\n",
              "      <td>0.1660</td>\n",
              "      <td>0.08440</td>\n",
              "      <td>0.000000</td>\n",
              "      <td>0.0730</td>\n",
              "      <td>0.334</td>\n",
              "      <td>123.909</td>\n",
              "      <td>audio_features</td>\n",
              "      <td>664gdARxaClFsoF5SXKOws</td>\n",
              "      <td>https://api.spotify.com/v1/tracks/664gdARxaClF...</td>\n",
              "      <td>https://api.spotify.com/v1/audio-analysis/664g...</td>\n",
              "      <td>199453</td>\n",
              "      <td>4</td>\n",
              "    </tr>\n",
              "  </tbody>\n",
              "</table>\n",
              "</div>"
            ],
            "text/plain": [
              "   id_billboard  ... time_signature\n",
              "0            71  ...              4\n",
              "1             7  ...              4\n",
              "2            26  ...              4\n",
              "3            83  ...              4\n",
              "4            39  ...              4\n",
              "\n",
              "[5 rows x 21 columns]"
            ]
          },
          "metadata": {
            "tags": []
          },
          "execution_count": 8
        }
      ]
    },
    {
      "cell_type": "code",
      "metadata": {
        "id": "KAZblWevvhhS",
        "colab": {
          "base_uri": "https://localhost:8080/",
          "height": 102
        },
        "outputId": "127fbe46-63b1-4fd4-e7c8-b185609100ad"
      },
      "source": [
        "df.columns"
      ],
      "execution_count": null,
      "outputs": [
        {
          "output_type": "execute_result",
          "data": {
            "text/plain": [
              "Index(['id_billboard', 'song_name', 'artist', 'lyrics', 'danceability',\n",
              "       'energy', 'key', 'loudness', 'mode', 'speechiness', 'acousticness',\n",
              "       'instrumentalness', 'liveness', 'valence', 'time', 'type', 'id',\n",
              "       'track_href', 'analysis_url', 'duration_ms', 'time_signature'],\n",
              "      dtype='object')"
            ]
          },
          "metadata": {
            "tags": []
          },
          "execution_count": 9
        }
      ]
    },
    {
      "cell_type": "code",
      "metadata": {
        "id": "jCtUkl9jvbfc",
        "colab": {
          "base_uri": "https://localhost:8080/",
          "height": 297
        },
        "outputId": "d38901de-f11e-4b41-b9b8-0348955fed5c"
      },
      "source": [
        "df[['danceability', 'energy', 'loudness']].describe()"
      ],
      "execution_count": null,
      "outputs": [
        {
          "output_type": "execute_result",
          "data": {
            "text/html": [
              "<div>\n",
              "<style scoped>\n",
              "    .dataframe tbody tr th:only-of-type {\n",
              "        vertical-align: middle;\n",
              "    }\n",
              "\n",
              "    .dataframe tbody tr th {\n",
              "        vertical-align: top;\n",
              "    }\n",
              "\n",
              "    .dataframe thead th {\n",
              "        text-align: right;\n",
              "    }\n",
              "</style>\n",
              "<table border=\"1\" class=\"dataframe\">\n",
              "  <thead>\n",
              "    <tr style=\"text-align: right;\">\n",
              "      <th></th>\n",
              "      <th>danceability</th>\n",
              "      <th>energy</th>\n",
              "      <th>loudness</th>\n",
              "    </tr>\n",
              "  </thead>\n",
              "  <tbody>\n",
              "    <tr>\n",
              "      <th>count</th>\n",
              "      <td>60.000000</td>\n",
              "      <td>60.000000</td>\n",
              "      <td>60.00000</td>\n",
              "    </tr>\n",
              "    <tr>\n",
              "      <th>mean</th>\n",
              "      <td>0.659200</td>\n",
              "      <td>0.644883</td>\n",
              "      <td>-6.19370</td>\n",
              "    </tr>\n",
              "    <tr>\n",
              "      <th>std</th>\n",
              "      <td>0.132919</td>\n",
              "      <td>0.154437</td>\n",
              "      <td>2.39571</td>\n",
              "    </tr>\n",
              "    <tr>\n",
              "      <th>min</th>\n",
              "      <td>0.376000</td>\n",
              "      <td>0.275000</td>\n",
              "      <td>-13.51400</td>\n",
              "    </tr>\n",
              "    <tr>\n",
              "      <th>25%</th>\n",
              "      <td>0.573250</td>\n",
              "      <td>0.558000</td>\n",
              "      <td>-7.53325</td>\n",
              "    </tr>\n",
              "    <tr>\n",
              "      <th>50%</th>\n",
              "      <td>0.655500</td>\n",
              "      <td>0.670500</td>\n",
              "      <td>-5.72650</td>\n",
              "    </tr>\n",
              "    <tr>\n",
              "      <th>75%</th>\n",
              "      <td>0.758250</td>\n",
              "      <td>0.761000</td>\n",
              "      <td>-4.66275</td>\n",
              "    </tr>\n",
              "    <tr>\n",
              "      <th>max</th>\n",
              "      <td>0.916000</td>\n",
              "      <td>0.928000</td>\n",
              "      <td>-2.78700</td>\n",
              "    </tr>\n",
              "  </tbody>\n",
              "</table>\n",
              "</div>"
            ],
            "text/plain": [
              "       danceability     energy  loudness\n",
              "count     60.000000  60.000000  60.00000\n",
              "mean       0.659200   0.644883  -6.19370\n",
              "std        0.132919   0.154437   2.39571\n",
              "min        0.376000   0.275000 -13.51400\n",
              "25%        0.573250   0.558000  -7.53325\n",
              "50%        0.655500   0.670500  -5.72650\n",
              "75%        0.758250   0.761000  -4.66275\n",
              "max        0.916000   0.928000  -2.78700"
            ]
          },
          "metadata": {
            "tags": []
          },
          "execution_count": 10
        }
      ]
    },
    {
      "cell_type": "markdown",
      "metadata": {
        "id": "MncTdsSSwzqj"
      },
      "source": [
        "## 2.2. Acesso a colunas do dataframe"
      ]
    },
    {
      "cell_type": "code",
      "metadata": {
        "id": "2RFhuCtBvl5U",
        "colab": {
          "base_uri": "https://localhost:8080/",
          "height": 119
        },
        "outputId": "569da705-9f92-4dff-a218-2e203f53a94e"
      },
      "source": [
        "df['artist'].sample(n=5)"
      ],
      "execution_count": null,
      "outputs": [
        {
          "output_type": "execute_result",
          "data": {
            "text/plain": [
              "6       Ariana Grande\n",
              "14           Coldplay\n",
              "46            Jeremih\n",
              "30    DRAM Lil Yachty\n",
              "53        Kevin Gates\n",
              "Name: artist, dtype: object"
            ]
          },
          "metadata": {
            "tags": []
          },
          "execution_count": 11
        }
      ]
    },
    {
      "cell_type": "code",
      "metadata": {
        "id": "apE4_XXTwor9",
        "colab": {
          "base_uri": "https://localhost:8080/",
          "height": 204
        },
        "outputId": "3308c4c5-c29f-4272-8258-e8c467ddefe6"
      },
      "source": [
        "df[['song_name', 'artist', 'duration_ms']].sample(n=5)"
      ],
      "execution_count": null,
      "outputs": [
        {
          "output_type": "execute_result",
          "data": {
            "text/html": [
              "<div>\n",
              "<style scoped>\n",
              "    .dataframe tbody tr th:only-of-type {\n",
              "        vertical-align: middle;\n",
              "    }\n",
              "\n",
              "    .dataframe tbody tr th {\n",
              "        vertical-align: top;\n",
              "    }\n",
              "\n",
              "    .dataframe thead th {\n",
              "        text-align: right;\n",
              "    }\n",
              "</style>\n",
              "<table border=\"1\" class=\"dataframe\">\n",
              "  <thead>\n",
              "    <tr style=\"text-align: right;\">\n",
              "      <th></th>\n",
              "      <th>song_name</th>\n",
              "      <th>artist</th>\n",
              "      <th>duration_ms</th>\n",
              "    </tr>\n",
              "  </thead>\n",
              "  <tbody>\n",
              "    <tr>\n",
              "      <th>35</th>\n",
              "      <td>All In My Head (Flex)</td>\n",
              "      <td>Fifth Harmony Fetty Wap</td>\n",
              "      <td>210573</td>\n",
              "    </tr>\n",
              "    <tr>\n",
              "      <th>14</th>\n",
              "      <td>Adventure Of A Lifetime</td>\n",
              "      <td>Coldplay</td>\n",
              "      <td>263787</td>\n",
              "    </tr>\n",
              "    <tr>\n",
              "      <th>29</th>\n",
              "      <td>One Dance</td>\n",
              "      <td>Drake WizKid Kyla</td>\n",
              "      <td>173987</td>\n",
              "    </tr>\n",
              "    <tr>\n",
              "      <th>34</th>\n",
              "      <td>679 (feat. Remy Boyz)</td>\n",
              "      <td>Fetty Wap Remy Boyz</td>\n",
              "      <td>196693</td>\n",
              "    </tr>\n",
              "    <tr>\n",
              "      <th>40</th>\n",
              "      <td>Wicked</td>\n",
              "      <td>Future</td>\n",
              "      <td>173347</td>\n",
              "    </tr>\n",
              "  </tbody>\n",
              "</table>\n",
              "</div>"
            ],
            "text/plain": [
              "                  song_name                   artist  duration_ms\n",
              "35    All In My Head (Flex)  Fifth Harmony Fetty Wap       210573\n",
              "14  Adventure Of A Lifetime                 Coldplay       263787\n",
              "29                One Dance        Drake WizKid Kyla       173987\n",
              "34    679 (feat. Remy Boyz)      Fetty Wap Remy Boyz       196693\n",
              "40                   Wicked                   Future       173347"
            ]
          },
          "metadata": {
            "tags": []
          },
          "execution_count": 12
        }
      ]
    },
    {
      "cell_type": "markdown",
      "metadata": {
        "id": "NtYOenJ9xixq"
      },
      "source": [
        "## 2.3. Acesso a linhas do dataframe"
      ]
    },
    {
      "cell_type": "code",
      "metadata": {
        "id": "qGxr7zATxenW",
        "colab": {
          "base_uri": "https://localhost:8080/",
          "height": 391
        },
        "outputId": "0ac6b8ce-c18a-4501-c9f5-36ef5c9a189a"
      },
      "source": [
        "df.loc[42]"
      ],
      "execution_count": null,
      "outputs": [
        {
          "output_type": "execute_result",
          "data": {
            "text/plain": [
              "id_billboard                                                       19\n",
              "song_name                                              Me, Myself & I\n",
              "artist                                              G-Eazy Bebe Rexha\n",
              "lyrics              [Bebe Rexha (G-Eazy):] Oh, it's just me, mysel...\n",
              "danceability                                                    0.757\n",
              "energy                                                          0.672\n",
              "key                                                                 0\n",
              "loudness                                                       -6.524\n",
              "mode                                                                0\n",
              "speechiness                                                    0.0955\n",
              "acousticness                                                   0.0186\n",
              "instrumentalness                                                    0\n",
              "liveness                                                        0.158\n",
              "valence                                                         0.389\n",
              "time                                                          111.996\n",
              "type                                                   audio_features\n",
              "id                                             40YcuQysJ0KlGQTeGUosTC\n",
              "track_href          https://api.spotify.com/v1/tracks/40YcuQysJ0Kl...\n",
              "analysis_url        https://api.spotify.com/v1/audio-analysis/40Yc...\n",
              "duration_ms                                                    251467\n",
              "time_signature                                                      4\n",
              "Name: 42, dtype: object"
            ]
          },
          "metadata": {
            "tags": []
          },
          "execution_count": 13
        }
      ]
    },
    {
      "cell_type": "code",
      "metadata": {
        "id": "XV0uQP73xlrg",
        "colab": {
          "base_uri": "https://localhost:8080/",
          "height": 400
        },
        "outputId": "85cc5609-ae62-416e-8572-909e53d3b224"
      },
      "source": [
        "df.loc[42:44]"
      ],
      "execution_count": null,
      "outputs": [
        {
          "output_type": "execute_result",
          "data": {
            "text/html": [
              "<div>\n",
              "<style scoped>\n",
              "    .dataframe tbody tr th:only-of-type {\n",
              "        vertical-align: middle;\n",
              "    }\n",
              "\n",
              "    .dataframe tbody tr th {\n",
              "        vertical-align: top;\n",
              "    }\n",
              "\n",
              "    .dataframe thead th {\n",
              "        text-align: right;\n",
              "    }\n",
              "</style>\n",
              "<table border=\"1\" class=\"dataframe\">\n",
              "  <thead>\n",
              "    <tr style=\"text-align: right;\">\n",
              "      <th></th>\n",
              "      <th>id_billboard</th>\n",
              "      <th>song_name</th>\n",
              "      <th>artist</th>\n",
              "      <th>lyrics</th>\n",
              "      <th>danceability</th>\n",
              "      <th>energy</th>\n",
              "      <th>key</th>\n",
              "      <th>loudness</th>\n",
              "      <th>mode</th>\n",
              "      <th>speechiness</th>\n",
              "      <th>acousticness</th>\n",
              "      <th>instrumentalness</th>\n",
              "      <th>liveness</th>\n",
              "      <th>valence</th>\n",
              "      <th>time</th>\n",
              "      <th>type</th>\n",
              "      <th>id</th>\n",
              "      <th>track_href</th>\n",
              "      <th>analysis_url</th>\n",
              "      <th>duration_ms</th>\n",
              "      <th>time_signature</th>\n",
              "    </tr>\n",
              "  </thead>\n",
              "  <tbody>\n",
              "    <tr>\n",
              "      <th>42</th>\n",
              "      <td>19</td>\n",
              "      <td>Me, Myself &amp; I</td>\n",
              "      <td>G-Eazy Bebe Rexha</td>\n",
              "      <td>[Bebe Rexha (G-Eazy):] Oh, it's just me, mysel...</td>\n",
              "      <td>0.757</td>\n",
              "      <td>0.672</td>\n",
              "      <td>0</td>\n",
              "      <td>-6.524</td>\n",
              "      <td>0</td>\n",
              "      <td>0.0955</td>\n",
              "      <td>0.0186</td>\n",
              "      <td>0.0</td>\n",
              "      <td>0.158</td>\n",
              "      <td>0.389</td>\n",
              "      <td>111.996</td>\n",
              "      <td>audio_features</td>\n",
              "      <td>40YcuQysJ0KlGQTeGUosTC</td>\n",
              "      <td>https://api.spotify.com/v1/tracks/40YcuQysJ0Kl...</td>\n",
              "      <td>https://api.spotify.com/v1/audio-analysis/40Yc...</td>\n",
              "      <td>251467</td>\n",
              "      <td>4</td>\n",
              "    </tr>\n",
              "    <tr>\n",
              "      <th>43</th>\n",
              "      <td>38</td>\n",
              "      <td>i hate u, i love u (feat. olivia o'brien)</td>\n",
              "      <td>gnash Olivia O'Brien</td>\n",
              "      <td>[Olivia O'Brien:] Feeling used But I'm still m...</td>\n",
              "      <td>0.492</td>\n",
              "      <td>0.275</td>\n",
              "      <td>6</td>\n",
              "      <td>-13.400</td>\n",
              "      <td>0</td>\n",
              "      <td>0.3000</td>\n",
              "      <td>0.6870</td>\n",
              "      <td>0.0</td>\n",
              "      <td>0.101</td>\n",
              "      <td>0.180</td>\n",
              "      <td>92.600</td>\n",
              "      <td>audio_features</td>\n",
              "      <td>7vRriwrloYVaoAe3a9wJHe</td>\n",
              "      <td>https://api.spotify.com/v1/tracks/7vRriwrloYVa...</td>\n",
              "      <td>https://api.spotify.com/v1/audio-analysis/7vRr...</td>\n",
              "      <td>251034</td>\n",
              "      <td>4</td>\n",
              "    </tr>\n",
              "    <tr>\n",
              "      <th>44</th>\n",
              "      <td>94</td>\n",
              "      <td>Starving</td>\n",
              "      <td>Hailee Steinfeld Grey Zedd</td>\n",
              "      <td>NaN</td>\n",
              "      <td>0.724</td>\n",
              "      <td>0.628</td>\n",
              "      <td>4</td>\n",
              "      <td>-4.219</td>\n",
              "      <td>1</td>\n",
              "      <td>0.0962</td>\n",
              "      <td>0.4090</td>\n",
              "      <td>0.0</td>\n",
              "      <td>0.105</td>\n",
              "      <td>0.508</td>\n",
              "      <td>99.898</td>\n",
              "      <td>audio_features</td>\n",
              "      <td>2zDt2TfQbxiSPjTVJTgbwz</td>\n",
              "      <td>https://api.spotify.com/v1/tracks/2zDt2TfQbxiS...</td>\n",
              "      <td>https://api.spotify.com/v1/audio-analysis/2zDt...</td>\n",
              "      <td>181880</td>\n",
              "      <td>4</td>\n",
              "    </tr>\n",
              "  </tbody>\n",
              "</table>\n",
              "</div>"
            ],
            "text/plain": [
              "    id_billboard  ... time_signature\n",
              "42            19  ...              4\n",
              "43            38  ...              4\n",
              "44            94  ...              4\n",
              "\n",
              "[3 rows x 21 columns]"
            ]
          },
          "metadata": {
            "tags": []
          },
          "execution_count": 14
        }
      ]
    },
    {
      "cell_type": "markdown",
      "metadata": {
        "id": "UV6t-Oq0xD8B"
      },
      "source": [
        "## 2.4. Aplicando uma função à uma coluna"
      ]
    },
    {
      "cell_type": "code",
      "metadata": {
        "id": "B1_F01cPxJVa",
        "colab": {
          "base_uri": "https://localhost:8080/",
          "height": 1000
        },
        "outputId": "46df8e40-756b-48dd-e87b-8f154a0175f3"
      },
      "source": [
        "def to_upper(s):\n",
        "  return s.upper()\n",
        "\n",
        "df['lyrics'] = df['lyrics'].astype('str')\n",
        "df['lyrics'].apply(to_upper)"
      ],
      "execution_count": null,
      "outputs": [
        {
          "output_type": "execute_result",
          "data": {
            "text/plain": [
              "0                                                   NAN\n",
              "1     HELLO, IT'S ME I WAS WONDERING IF AFTER ALL TH...\n",
              "2     JUST THE GUITAR. OK, COOL. THIS WAS ALL YOU, N...\n",
              "3                                                   NAN\n",
              "4                                                   NAN\n",
              "5     OH, YEAH DON'T NEED PERMISSION MADE MY DECISIO...\n",
              "6     I'M SO INTO YOU, I CAN BARELY BREATHE AND ALL ...\n",
              "7                                                   NAN\n",
              "8     DON'T DON'T PLAY WITH HER, DON'T BE DISHONEST ...\n",
              "9                                                   NAN\n",
              "10    BABY, THIS IS WHAT YOU CAME FOR LIGHTNING STRI...\n",
              "11                                                  NAN\n",
              "12    [CHARLIE PUTH:] WE DON'T TALK ANYMORE WE DON'T...\n",
              "13                                                  NAN\n",
              "14                                                  NAN\n",
              "15                                                  NAN\n",
              "16                                                  NAN\n",
              "17                                                  NAN\n",
              "18    [SPOKEN:] THIS WHAT THEY ALL BEEN WAITIN' FOR....\n",
              "19    YEAH, YEAH, YEAH, YEAH GRRRRRAAAAH YEAH, YEAH,...\n",
              "20                                                  NAN\n",
              "21                                                  NAN\n",
              "22    I USED TO BELIEVE WE WERE BURNIN' ON THE EDGE ...\n",
              "23    OH NO SEE YOU WALKING 'ROUND LIKE IT'S A FUNER...\n",
              "24    YOU USED TO CALL ME ON MY YOU USED TO, YOU USE...\n",
              "25                                                  NAN\n",
              "26    [DRAKE:] YEAH HALLOWEEN TALIBAN, TALIBAN JUMPM...\n",
              "27    [DRAKE:] OH YEAH YEAH YEAH OH YEAH YEAH YEAH Y...\n",
              "28                                                  NAN\n",
              "29    [INTRO - KYLA & WIZKID:] BABY, I LIKE YOUR STY...\n",
              "30    [D.R.A.M.:] AIN'T NO TELLING WHAT I'M FINNA BE...\n",
              "31                                                  NAN\n",
              "32                                                  NAN\n",
              "33    [FAT JOE:] NOTHING CAN STOP ME, I'M ALL THE WA...\n",
              "34                                                  NAN\n",
              "35                                                  NAN\n",
              "36    I AIN'T WORRIED 'BOUT NOTHIN' I AIN'T WEARIN' ...\n",
              "37    OPEN UP THE CHAMPAGNE, POP! IT'S MY HOUSE, COM...\n",
              "38    WHEN THE SUN HAD LEFT AND THE WINTER CAME AND ...\n",
              "39    WHAT I WOULD DO TO TAKE AWAY THIS FEAR OF BEIN...\n",
              "40                                                  NAN\n",
              "41    [REFRAIN:] EVERYBODY GETTING HIGH GETTING HIGH...\n",
              "42    [BEBE REXHA (G-EAZY):] OH, IT'S JUST ME, MYSEL...\n",
              "43    [OLIVIA O'BRIEN:] FEELING USED BUT I'M STILL M...\n",
              "44                                                  NAN\n",
              "45                                                  NAN\n",
              "46                                                  NAN\n",
              "47    FOR ALL THE TIMES THAT YOU RAIN ON MY PARADE A...\n",
              "48    YOU GOTTA GO AND GET ANGRY AT ALL OF MY HONEST...\n",
              "49    WHAT DO YOU MEAN? OHH OHH OHH WHEN YOU NOD YOU...\n",
              "50    I GOT THIS FEELING INSIDE MY BONES IT GOES ELE...\n",
              "51                                                  NAN\n",
              "52                                                  NAN\n",
              "53                                                  NAN\n",
              "54    ROOF IS FALLING LET ME LOVE ME FALLING I JUST ...\n",
              "55    [DAN REYNOLDS & SAM HARRIS:] I TORTURE YOU TAK...\n",
              "56    ONCE I WAS SEVEN YEARS OLD, MY MAMA TOLD ME \"G...\n",
              "57    [JUSTIN BIEBER:] EVERYBODY GETS HIGH SOMETIMES...\n",
              "58                                                  NAN\n",
              "59    I THINK IT'S SO CUTE AND I THINK IT'S SO SWEET...\n",
              "Name: lyrics, dtype: object"
            ]
          },
          "metadata": {
            "tags": []
          },
          "execution_count": 15
        }
      ]
    },
    {
      "cell_type": "markdown",
      "metadata": {
        "id": "dHE-gNjzxyi5"
      },
      "source": [
        "## 2.5. Acessando linhas a partir de consulta com sintaxe própria da biblioteca"
      ]
    },
    {
      "cell_type": "code",
      "metadata": {
        "id": "VvG5_GaAx7lb",
        "colab": {
          "base_uri": "https://localhost:8080/",
          "height": 117
        },
        "outputId": "caed2273-f04d-4970-cf9d-4c7ec11e5594"
      },
      "source": [
        "# SELECT * WHERE song_name = 'Here'\n",
        "df[df['song_name'] == 'Here']"
      ],
      "execution_count": null,
      "outputs": [
        {
          "output_type": "execute_result",
          "data": {
            "text/html": [
              "<div>\n",
              "<style scoped>\n",
              "    .dataframe tbody tr th:only-of-type {\n",
              "        vertical-align: middle;\n",
              "    }\n",
              "\n",
              "    .dataframe tbody tr th {\n",
              "        vertical-align: top;\n",
              "    }\n",
              "\n",
              "    .dataframe thead th {\n",
              "        text-align: right;\n",
              "    }\n",
              "</style>\n",
              "<table border=\"1\" class=\"dataframe\">\n",
              "  <thead>\n",
              "    <tr style=\"text-align: right;\">\n",
              "      <th></th>\n",
              "      <th>id_billboard</th>\n",
              "      <th>song_name</th>\n",
              "      <th>artist</th>\n",
              "      <th>lyrics</th>\n",
              "      <th>danceability</th>\n",
              "      <th>energy</th>\n",
              "      <th>key</th>\n",
              "      <th>loudness</th>\n",
              "      <th>mode</th>\n",
              "      <th>speechiness</th>\n",
              "      <th>acousticness</th>\n",
              "      <th>instrumentalness</th>\n",
              "      <th>liveness</th>\n",
              "      <th>valence</th>\n",
              "      <th>time</th>\n",
              "      <th>type</th>\n",
              "      <th>id</th>\n",
              "      <th>track_href</th>\n",
              "      <th>analysis_url</th>\n",
              "      <th>duration_ms</th>\n",
              "      <th>time_signature</th>\n",
              "    </tr>\n",
              "  </thead>\n",
              "  <tbody>\n",
              "    <tr>\n",
              "      <th>4</th>\n",
              "      <td>39</td>\n",
              "      <td>Here</td>\n",
              "      <td>Alessia Cara</td>\n",
              "      <td>nan</td>\n",
              "      <td>0.376</td>\n",
              "      <td>0.81</td>\n",
              "      <td>0</td>\n",
              "      <td>-4.003</td>\n",
              "      <td>1</td>\n",
              "      <td>0.166</td>\n",
              "      <td>0.0844</td>\n",
              "      <td>0.0</td>\n",
              "      <td>0.073</td>\n",
              "      <td>0.334</td>\n",
              "      <td>123.909</td>\n",
              "      <td>audio_features</td>\n",
              "      <td>664gdARxaClFsoF5SXKOws</td>\n",
              "      <td>https://api.spotify.com/v1/tracks/664gdARxaClF...</td>\n",
              "      <td>https://api.spotify.com/v1/audio-analysis/664g...</td>\n",
              "      <td>199453</td>\n",
              "      <td>4</td>\n",
              "    </tr>\n",
              "  </tbody>\n",
              "</table>\n",
              "</div>"
            ],
            "text/plain": [
              "   id_billboard song_name  ... duration_ms time_signature\n",
              "4            39      Here  ...      199453              4\n",
              "\n",
              "[1 rows x 21 columns]"
            ]
          },
          "metadata": {
            "tags": []
          },
          "execution_count": 16
        }
      ]
    },
    {
      "cell_type": "markdown",
      "metadata": {
        "id": "tchGngZ3ByyD"
      },
      "source": [
        ""
      ]
    },
    {
      "cell_type": "markdown",
      "metadata": {
        "id": "Ed34HrbP8uGC"
      },
      "source": [
        "# 3. SQL com `sqlite3`\n",
        "\n",
        "SQLite é uma engine de banco de dados transacional autocontida que dispensa servidor e configuração. Através dela é possível importar um dump de banco de dados a partir de um arquivo `.sql`, realizar consultas e outras operações.\n",
        "\n",
        "- [SQLite](https://www.sqlite.org/index.html)\n",
        "- [Documentação da biblioteca `sqlite` em Python](https://docs.python.org/pt-br/3/library/sqlite3.html)\n",
        "- [Tutoriais](https://www.tutorialspoint.com/sqlite/sqlite_python.htm)\n",
        "\n",
        "Para os exemplos, utilizaremos o seguinte banco representado pelo schema abaixo:\n",
        "\n",
        "\n",
        "\n",
        "![schema.png](data:image/png;base64,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)\n"
      ]
    },
    {
      "cell_type": "code",
      "metadata": {
        "id": "QY3ASpf2C2fr"
      },
      "source": [
        "import io\n",
        "import sqlite3\n",
        "import pandas as pd\n",
        "import matplotlib.pyplot as plt\n",
        "\n",
        "# Download do dump:\n",
        "!wget --quiet -P /tmp/ibd/ https://raw.githubusercontent.com/filipefbn/jupyter_intro_class_ibd/master/data/despesas_publicas_tp1.sql"
      ],
      "execution_count": null,
      "outputs": []
    },
    {
      "cell_type": "markdown",
      "metadata": {
        "id": "3jB1hqEIDfwP"
      },
      "source": [
        "## 3.1. Criação da conexão com o banco\n",
        "No momento da conexão, é informado o nome do arquivo onde será montado o banco de dados. No nosso caso, este arquivo não precisa ser pré-existente, porque iremos carregar as informações de um dump\n",
        "\n",
        "Se este comando for executado com um arquivo que já existe e possui as mesmas tabelas que serão criadas, ocorrerá um erro no momento da execução do script mais à frente"
      ]
    },
    {
      "cell_type": "code",
      "metadata": {
        "id": "UaXx7toVDGPF"
      },
      "source": [
        "conn = sqlite3.connect('/tmp/ibd/conn_despesas_publicas_tp1.db')\n",
        "cursor = conn.cursor()"
      ],
      "execution_count": null,
      "outputs": []
    },
    {
      "cell_type": "markdown",
      "metadata": {
        "id": "dAW7Uc_ADm_M"
      },
      "source": [
        "## 3.2. Execução do script para carga do dump\n",
        "\n",
        "Criada a conexão, iremos utilizar o arquivo .sql disponibilizado para recuperar o schema e os dados do banco."
      ]
    },
    {
      "cell_type": "code",
      "metadata": {
        "id": "ZK9ZeCZKD0Cq",
        "colab": {
          "base_uri": "https://localhost:8080/",
          "height": 34
        },
        "outputId": "c1afa7e7-b6bf-4e14-8370-23afbbe8fe77"
      },
      "source": [
        "f = io.open('/tmp/ibd/despesas_publicas_tp1.sql', 'r', encoding='ISO-8859-1')\n",
        "sql = f.read()\n",
        "cursor.executescript(sql)"
      ],
      "execution_count": null,
      "outputs": [
        {
          "output_type": "execute_result",
          "data": {
            "text/plain": [
              "<sqlite3.Cursor at 0x7fa3c0b98c00>"
            ]
          },
          "metadata": {
            "tags": []
          },
          "execution_count": 19
        }
      ]
    },
    {
      "cell_type": "markdown",
      "metadata": {
        "id": "frsWwxcuD4ZF"
      },
      "source": [
        "\n",
        "## 3.3. Realizando consultas no banco de dados\n",
        "\n",
        "Criada a conexão e realizada a carga dos dados no banco, pode ser executada qualquer consulta SQL.\n",
        "\n",
        "O SQLite3 permite que o retorno dos dados seja feito em vários formatos. Utilizaremos o retorno em um dataframe Pandas."
      ]
    },
    {
      "cell_type": "markdown",
      "metadata": {
        "id": "7OuU9BprD-lH"
      },
      "source": [
        "### 3.3.1. Consulta 1\n",
        "Retorne todos os órgãos ordenados de forma decrescente pela quantidade de orgãos subordinados."
      ]
    },
    {
      "cell_type": "code",
      "metadata": {
        "id": "_m3Pbk_4D9oa",
        "colab": {
          "base_uri": "https://localhost:8080/",
          "height": 483
        },
        "outputId": "ba862201-3c80-4ae6-d0e4-83d749c333bf"
      },
      "source": [
        "query = \"\"\"\n",
        "SELECT * FROM ORGAO ORDER BY QTD_ORGAOS_SUBORDINADOS DESC\n",
        "\"\"\"\n",
        "\n",
        "df = pd.read_sql_query(query, conn)\n",
        "df"
      ],
      "execution_count": null,
      "outputs": [
        {
          "output_type": "execute_result",
          "data": {
            "text/html": [
              "<div>\n",
              "<style scoped>\n",
              "    .dataframe tbody tr th:only-of-type {\n",
              "        vertical-align: middle;\n",
              "    }\n",
              "\n",
              "    .dataframe tbody tr th {\n",
              "        vertical-align: top;\n",
              "    }\n",
              "\n",
              "    .dataframe thead th {\n",
              "        text-align: right;\n",
              "    }\n",
              "</style>\n",
              "<table border=\"1\" class=\"dataframe\">\n",
              "  <thead>\n",
              "    <tr style=\"text-align: right;\">\n",
              "      <th></th>\n",
              "      <th>COD_ORGAO</th>\n",
              "      <th>NOME_ORGAO</th>\n",
              "      <th>QTD_ORGAOS_SUBORDINADOS</th>\n",
              "    </tr>\n",
              "  </thead>\n",
              "  <tbody>\n",
              "    <tr>\n",
              "      <th>0</th>\n",
              "      <td>26000</td>\n",
              "      <td>Ministério da Educação</td>\n",
              "      <td>104</td>\n",
              "    </tr>\n",
              "    <tr>\n",
              "      <th>1</th>\n",
              "      <td>30000</td>\n",
              "      <td>Ministério da Justiça e Segurança Pública</td>\n",
              "      <td>6</td>\n",
              "    </tr>\n",
              "    <tr>\n",
              "      <th>2</th>\n",
              "      <td>22000</td>\n",
              "      <td>Ministério da Agricultura, Pecuária e Abastec</td>\n",
              "      <td>5</td>\n",
              "    </tr>\n",
              "    <tr>\n",
              "      <th>3</th>\n",
              "      <td>24000</td>\n",
              "      <td>Ministério da Ciência, Tecnologia, Inovações</td>\n",
              "      <td>4</td>\n",
              "    </tr>\n",
              "    <tr>\n",
              "      <th>4</th>\n",
              "      <td>52000</td>\n",
              "      <td>Ministério da Defesa</td>\n",
              "      <td>4</td>\n",
              "    </tr>\n",
              "    <tr>\n",
              "      <th>5</th>\n",
              "      <td>53000</td>\n",
              "      <td>Ministério da Integração Nacional</td>\n",
              "      <td>4</td>\n",
              "    </tr>\n",
              "    <tr>\n",
              "      <th>6</th>\n",
              "      <td>25000</td>\n",
              "      <td>Ministério da Fazenda</td>\n",
              "      <td>3</td>\n",
              "    </tr>\n",
              "    <tr>\n",
              "      <th>7</th>\n",
              "      <td>36000</td>\n",
              "      <td>Ministério da Saúde</td>\n",
              "      <td>3</td>\n",
              "    </tr>\n",
              "    <tr>\n",
              "      <th>8</th>\n",
              "      <td>20000</td>\n",
              "      <td>Presidência da República</td>\n",
              "      <td>2</td>\n",
              "    </tr>\n",
              "    <tr>\n",
              "      <th>9</th>\n",
              "      <td>39000</td>\n",
              "      <td>Ministério dos Transportes, Portos e Aviação</td>\n",
              "      <td>2</td>\n",
              "    </tr>\n",
              "    <tr>\n",
              "      <th>10</th>\n",
              "      <td>44000</td>\n",
              "      <td>Ministério do Meio Ambiente</td>\n",
              "      <td>2</td>\n",
              "    </tr>\n",
              "    <tr>\n",
              "      <th>11</th>\n",
              "      <td>55000</td>\n",
              "      <td>Ministério do Desenvolvimento Social</td>\n",
              "      <td>2</td>\n",
              "    </tr>\n",
              "    <tr>\n",
              "      <th>12</th>\n",
              "      <td>35000</td>\n",
              "      <td>Ministério das Relações Exteriores</td>\n",
              "      <td>1</td>\n",
              "    </tr>\n",
              "    <tr>\n",
              "      <th>13</th>\n",
              "      <td>81000</td>\n",
              "      <td>Ministério dos Direitos Humanos</td>\n",
              "      <td>1</td>\n",
              "    </tr>\n",
              "  </tbody>\n",
              "</table>\n",
              "</div>"
            ],
            "text/plain": [
              "    COD_ORGAO  ... QTD_ORGAOS_SUBORDINADOS\n",
              "0       26000  ...                     104\n",
              "1       30000  ...                       6\n",
              "2       22000  ...                       5\n",
              "3       24000  ...                       4\n",
              "4       52000  ...                       4\n",
              "5       53000  ...                       4\n",
              "6       25000  ...                       3\n",
              "7       36000  ...                       3\n",
              "8       20000  ...                       2\n",
              "9       39000  ...                       2\n",
              "10      44000  ...                       2\n",
              "11      55000  ...                       2\n",
              "12      35000  ...                       1\n",
              "13      81000  ...                       1\n",
              "\n",
              "[14 rows x 3 columns]"
            ]
          },
          "metadata": {
            "tags": []
          },
          "execution_count": 20
        }
      ]
    },
    {
      "cell_type": "markdown",
      "metadata": {
        "id": "TYWmgQaVEapS"
      },
      "source": [
        "### 3.3.2. Consulta 2\n",
        "Retorne todos os nomes dos programas de governo e a soma de suas despesas totais no ano de 2018, ordenadas de forma decrescete, desde que as despesas tenham sido superiores a 0."
      ]
    },
    {
      "cell_type": "code",
      "metadata": {
        "id": "WHAfN-5WETws",
        "colab": {
          "base_uri": "https://localhost:8080/",
          "height": 266
        },
        "outputId": "68721e1a-5ee9-4454-d67a-fd1ec18b44f5"
      },
      "source": [
        "query = \"\"\"\n",
        "SELECT \n",
        "  P.NOME_PROGRAMA_GOVERNO, SUM(D.VALOR_DESPESA) AS VALOR_DESPESA\n",
        "FROM \n",
        "  DESPESA_PUBLICA AS D\n",
        "INNER JOIN PROGRAMA_GOVERNO AS P\n",
        "  ON D.COD_PROGRAMA_GOVERNO = P.COD_PROGRAMA_GOVERNO\n",
        "GROUP BY \n",
        "  P.NOME_PROGRAMA_GOVERNO\n",
        "HAVING \n",
        "  SUM(VALOR_DESPESA) > 0\n",
        "ORDER BY \n",
        "  VALOR_DESPESA DESC\n",
        "\"\"\"\n",
        "\n",
        "df = pd.read_sql_query(query, conn)\n",
        "df"
      ],
      "execution_count": null,
      "outputs": [
        {
          "output_type": "execute_result",
          "data": {
            "text/html": [
              "<div>\n",
              "<style scoped>\n",
              "    .dataframe tbody tr th:only-of-type {\n",
              "        vertical-align: middle;\n",
              "    }\n",
              "\n",
              "    .dataframe tbody tr th {\n",
              "        vertical-align: top;\n",
              "    }\n",
              "\n",
              "    .dataframe thead th {\n",
              "        text-align: right;\n",
              "    }\n",
              "</style>\n",
              "<table border=\"1\" class=\"dataframe\">\n",
              "  <thead>\n",
              "    <tr style=\"text-align: right;\">\n",
              "      <th></th>\n",
              "      <th>NOME_PROGRAMA_GOVERNO</th>\n",
              "      <th>VALOR_DESPESA</th>\n",
              "    </tr>\n",
              "  </thead>\n",
              "  <tbody>\n",
              "    <tr>\n",
              "      <th>0</th>\n",
              "      <td>BRASIL SEM MISERIA</td>\n",
              "      <td>387175.60</td>\n",
              "    </tr>\n",
              "    <tr>\n",
              "      <th>1</th>\n",
              "      <td>ENEM</td>\n",
              "      <td>334262.06</td>\n",
              "    </tr>\n",
              "    <tr>\n",
              "      <th>2</th>\n",
              "      <td>PRONATEC</td>\n",
              "      <td>60262.46</td>\n",
              "    </tr>\n",
              "    <tr>\n",
              "      <th>3</th>\n",
              "      <td>CONTROLE DO CANCER</td>\n",
              "      <td>38971.19</td>\n",
              "    </tr>\n",
              "    <tr>\n",
              "      <th>4</th>\n",
              "      <td>MAIS MEDICOS</td>\n",
              "      <td>14400.00</td>\n",
              "    </tr>\n",
              "    <tr>\n",
              "      <th>5</th>\n",
              "      <td>REGULARIZACAO FUNDIARIA</td>\n",
              "      <td>1497.26</td>\n",
              "    </tr>\n",
              "    <tr>\n",
              "      <th>6</th>\n",
              "      <td>REDE CEGONHA</td>\n",
              "      <td>1210.00</td>\n",
              "    </tr>\n",
              "  </tbody>\n",
              "</table>\n",
              "</div>"
            ],
            "text/plain": [
              "     NOME_PROGRAMA_GOVERNO  VALOR_DESPESA\n",
              "0       BRASIL SEM MISERIA      387175.60\n",
              "1                     ENEM      334262.06\n",
              "2                 PRONATEC       60262.46\n",
              "3       CONTROLE DO CANCER       38971.19\n",
              "4             MAIS MEDICOS       14400.00\n",
              "5  REGULARIZACAO FUNDIARIA        1497.26\n",
              "6             REDE CEGONHA        1210.00"
            ]
          },
          "metadata": {
            "tags": []
          },
          "execution_count": 21
        }
      ]
    },
    {
      "cell_type": "markdown",
      "metadata": {
        "id": "vFTPJJ3yE9jr"
      },
      "source": [
        "### 3.3.3. Consulta 3\n",
        "Retorne todos os gastos totais por mês em despesas públicas com função de 'Educação', ordenadas pelos meses do ano."
      ]
    },
    {
      "cell_type": "code",
      "metadata": {
        "id": "QQhhCLQ-E13l",
        "colab": {
          "base_uri": "https://localhost:8080/",
          "height": 421
        },
        "outputId": "91b1a670-f772-4d3e-e713-43ba7a23a55b"
      },
      "source": [
        "query = \"\"\"\n",
        "SELECT \n",
        "  D.MES_DESPESA, SUM(D.VALOR_DESPESA) AS VALOR_DESPESA\n",
        "FROM \n",
        "  DESPESA_PUBLICA AS D\n",
        "INNER JOIN DETALHAMENTO_FUNCAO AS DF\n",
        "  ON D.COD_DETALHAMENTO = DF.COD_DETALHAMENTO\n",
        "INNER JOIN FUNCAO AS F\n",
        "  ON DF.COD_FUNCAO = F.COD_FUNCAO\n",
        "WHERE \n",
        "  F.NOME_FUNCAO = 'Educação'\n",
        "GROUP BY \n",
        "  D.MES_DESPESA\n",
        "ORDER BY \n",
        "  D.MES_DESPESA\n",
        "\"\"\"\n",
        "\n",
        "\n",
        "df = pd.read_sql_query(query, conn)\n",
        "df"
      ],
      "execution_count": null,
      "outputs": [
        {
          "output_type": "execute_result",
          "data": {
            "text/html": [
              "<div>\n",
              "<style scoped>\n",
              "    .dataframe tbody tr th:only-of-type {\n",
              "        vertical-align: middle;\n",
              "    }\n",
              "\n",
              "    .dataframe tbody tr th {\n",
              "        vertical-align: top;\n",
              "    }\n",
              "\n",
              "    .dataframe thead th {\n",
              "        text-align: right;\n",
              "    }\n",
              "</style>\n",
              "<table border=\"1\" class=\"dataframe\">\n",
              "  <thead>\n",
              "    <tr style=\"text-align: right;\">\n",
              "      <th></th>\n",
              "      <th>MES_DESPESA</th>\n",
              "      <th>VALOR_DESPESA</th>\n",
              "    </tr>\n",
              "  </thead>\n",
              "  <tbody>\n",
              "    <tr>\n",
              "      <th>0</th>\n",
              "      <td>1</td>\n",
              "      <td>7000.00</td>\n",
              "    </tr>\n",
              "    <tr>\n",
              "      <th>1</th>\n",
              "      <td>2</td>\n",
              "      <td>0.00</td>\n",
              "    </tr>\n",
              "    <tr>\n",
              "      <th>2</th>\n",
              "      <td>3</td>\n",
              "      <td>0.00</td>\n",
              "    </tr>\n",
              "    <tr>\n",
              "      <th>3</th>\n",
              "      <td>4</td>\n",
              "      <td>18178.00</td>\n",
              "    </tr>\n",
              "    <tr>\n",
              "      <th>4</th>\n",
              "      <td>5</td>\n",
              "      <td>28073.08</td>\n",
              "    </tr>\n",
              "    <tr>\n",
              "      <th>5</th>\n",
              "      <td>6</td>\n",
              "      <td>135.36</td>\n",
              "    </tr>\n",
              "    <tr>\n",
              "      <th>6</th>\n",
              "      <td>7</td>\n",
              "      <td>0.00</td>\n",
              "    </tr>\n",
              "    <tr>\n",
              "      <th>7</th>\n",
              "      <td>8</td>\n",
              "      <td>3126.00</td>\n",
              "    </tr>\n",
              "    <tr>\n",
              "      <th>8</th>\n",
              "      <td>9</td>\n",
              "      <td>334126.70</td>\n",
              "    </tr>\n",
              "    <tr>\n",
              "      <th>9</th>\n",
              "      <td>10</td>\n",
              "      <td>385.38</td>\n",
              "    </tr>\n",
              "    <tr>\n",
              "      <th>10</th>\n",
              "      <td>11</td>\n",
              "      <td>0.00</td>\n",
              "    </tr>\n",
              "    <tr>\n",
              "      <th>11</th>\n",
              "      <td>12</td>\n",
              "      <td>5900.00</td>\n",
              "    </tr>\n",
              "  </tbody>\n",
              "</table>\n",
              "</div>"
            ],
            "text/plain": [
              "    MES_DESPESA  VALOR_DESPESA\n",
              "0             1        7000.00\n",
              "1             2           0.00\n",
              "2             3           0.00\n",
              "3             4       18178.00\n",
              "4             5       28073.08\n",
              "5             6         135.36\n",
              "6             7           0.00\n",
              "7             8        3126.00\n",
              "8             9      334126.70\n",
              "9            10         385.38\n",
              "10           11           0.00\n",
              "11           12        5900.00"
            ]
          },
          "metadata": {
            "tags": []
          },
          "execution_count": 22
        }
      ]
    },
    {
      "cell_type": "markdown",
      "metadata": {
        "id": "HCcVn-KRFfSH"
      },
      "source": [
        "### 3.3.4. Fechamento da conexão com o banco\n",
        "\n",
        "Após serem realizadas todas as consultas necessárias, é recomendado encerrar formalmente a conexão com o banco de dados"
      ]
    },
    {
      "cell_type": "code",
      "metadata": {
        "id": "SEfQWuB3Fbhj"
      },
      "source": [
        "conn.close()"
      ],
      "execution_count": null,
      "outputs": []
    }
  ]
}